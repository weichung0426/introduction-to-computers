{
  "nbformat": 4,
  "nbformat_minor": 0,
  "metadata": {
    "colab": {
      "name": "410600653.0523基礎設計3 ipynb",
      "provenance": [],
      "authorship_tag": "ABX9TyODKDLD8Ay7g0fXk/1XCt3f",
      "include_colab_link": true
    },
    "kernelspec": {
      "name": "python3",
      "display_name": "Python 3"
    },
    "language_info": {
      "name": "python"
    }
  },
  "cells": [
    {
      "cell_type": "markdown",
      "metadata": {
        "id": "view-in-github",
        "colab_type": "text"
      },
      "source": [
        "<a href=\"https://colab.research.google.com/github/weichung0426/introduction-to-computers/blob/main/410600653_0523%E5%9F%BA%E7%A4%8E%E8%A8%AD%E8%A8%883_ipynb.ipynb\" target=\"_parent\"><img src=\"https://colab.research.google.com/assets/colab-badge.svg\" alt=\"Open In Colab\"/></a>"
      ]
    },
    {
      "cell_type": "code",
      "source": [
        "print(\"0523\")"
      ],
      "metadata": {
        "colab": {
          "base_uri": "https://localhost:8080/"
        },
        "id": "PsNHwtIWO3GJ",
        "outputId": "0e725ab2-a828-43b3-d922-f476745eecf3"
      },
      "execution_count": 12,
      "outputs": [
        {
          "output_type": "stream",
          "name": "stdout",
          "text": [
            "0523\n"
          ]
        }
      ]
    },
    {
      "cell_type": "code",
      "source": [
        "\n",
        "sum=0\n",
        "test=int(input(\"請輸入一個正整數:\"))\n",
        "for n in range(1,test+1):\n",
        "   sum=sum+n\n",
        "print(\"1到\",test,\"的整數和為:\",sum)\n",
        "\n",
        "sum=0\n",
        "test=int(input(\"請輸入一個正整數:\"))\n",
        "for n in range(1,test+1):\n",
        "   sum=sum+n\n",
        "print(\"1到\",test,\"的整數和為:\",sum)"
      ],
      "metadata": {
        "colab": {
          "base_uri": "https://localhost:8080/"
        },
        "id": "fpff6obiPCgl",
        "outputId": "b92337b3-85b2-4de1-d03c-b39f47416002"
      },
      "execution_count": 14,
      "outputs": [
        {
          "output_type": "stream",
          "name": "stdout",
          "text": [
            "請輸入一個正整數:2\n",
            "1到 2 的整數和為: 3\n",
            "請輸入一個正整數:3\n",
            "1到 3 的整數和為: 6\n"
          ]
        }
      ]
    },
    {
      "cell_type": "code",
      "source": [
        "for  j  in range(1,5):\n",
        "     print(j)\n",
        "     for i in range(1,3):\n",
        "       k=i*j\n",
        "       print(j,\"*\",i,\"=\",k)"
      ],
      "metadata": {
        "colab": {
          "base_uri": "https://localhost:8080/"
        },
        "id": "7ynQOCxtQeNA",
        "outputId": "cc9284f1-413e-4191-dd58-9586c9430b4e"
      },
      "execution_count": 15,
      "outputs": [
        {
          "output_type": "stream",
          "name": "stdout",
          "text": [
            "1\n",
            "1 * 1 = 1\n",
            "1 * 2 = 2\n",
            "2\n",
            "2 * 1 = 2\n",
            "2 * 2 = 4\n",
            "3\n",
            "3 * 1 = 3\n",
            "3 * 2 = 6\n",
            "4\n",
            "4 * 1 = 4\n",
            "4 * 2 = 8\n"
          ]
        }
      ]
    },
    {
      "cell_type": "code",
      "source": [
        "for i in range(1,5):\n",
        "  if(i==4):\n",
        "    break\n",
        "    print(i,end=\"\")"
      ],
      "metadata": {
        "id": "COcXkNwgQiSv"
      },
      "execution_count": 16,
      "outputs": []
    },
    {
      "cell_type": "code",
      "source": [
        "count=0\n",
        "for string in \"測試看看!\":\n",
        "  count+=1\n",
        "  if string ==\"看\":\n",
        "    break\n",
        "    print(string)\n",
        "    print(\"迴圈結束!\")\n",
        "    print(\"迴圈執行了%次\"%count)\n",
        "    "
      ],
      "metadata": {
        "id": "ZFB1FslcQjYP"
      },
      "execution_count": 18,
      "outputs": []
    }
  ]
}